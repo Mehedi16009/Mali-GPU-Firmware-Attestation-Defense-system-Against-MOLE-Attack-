{
  "nbformat": 4,
  "nbformat_minor": 0,
  "metadata": {
    "colab": {
      "provenance": [],
      "gpuType": "T4",
      "authorship_tag": "ABX9TyNJsjekMjg25mXPz5Qyqrni",
      "include_colab_link": true
    },
    "kernelspec": {
      "name": "python3",
      "display_name": "Python 3"
    },
    "language_info": {
      "name": "python"
    },
    "accelerator": "GPU"
  },
  "cells": [
    {
      "cell_type": "markdown",
      "metadata": {
        "id": "view-in-github",
        "colab_type": "text"
      },
      "source": [
        "<a href=\"https://colab.research.google.com/github/Mehedi16009/Mali-GPU-Firmware-Attestation-Defense-system-Against-MOLE-Attack-/blob/main/Firmware_Attestation_MaliGPU_Prototype_(Defense_System_Against_MOLE_Attack).ipynb\" target=\"_parent\"><img src=\"https://colab.research.google.com/assets/colab-badge.svg\" alt=\"Open In Colab\"/></a>"
      ]
    },
    {
      "cell_type": "markdown",
      "source": [
        "# 🔐 Firmware Attestation Prototype (Google Colab Demo)\n",
        "\n",
        "This notebook demonstrates a **software-only prototype** of *Firmware Attestation* —  \n",
        "a defense against attacks like **MOLE**, where malicious actors replace GPU MCU firmware.\n",
        "\n",
        "I show how to:\n",
        "1. **Set up environment**  \n",
        "   Install Python libraries (`cryptography`) and C libraries (`OpenSSL`, `gcc`) in Colab.\n",
        "\n",
        "2. **Create a dummy firmware binary**  \n",
        "   A fake `firmware.bin` simulates MCU firmware.\n",
        "\n",
        "3. **Generate cryptographic keys**  \n",
        "   - Private key (`mcu_priv.pem`) — kept by the trusted vendor.  \n",
        "   - Public key (`mcu_pub.pem`) — stored securely in TEE/ROM in real systems.  \n",
        "\n",
        "4. **Sign firmware**  \n",
        "   Use the private key to sign `firmware.bin` → produces `firmware.sig`.\n",
        "\n",
        "5. **Verify firmware (C program)**  \n",
        "   - Compile and run `verify` (C with OpenSSL).  \n",
        "   - Checks `firmware.bin` + `firmware.sig` against `mcu_pub.pem`.  \n",
        "   - If signature matches, firmware is authentic.  \n",
        "\n",
        "6. **Simulate firmware loader**  \n",
        "   - `loader.py` mimics Linux/TEE calling the verifier.  \n",
        "   - Loads firmware if verified, rejects if not.  \n",
        "\n",
        "7. **Attack simulation**  \n",
        "   - Modify (tamper) `firmware.bin`.  \n",
        "   - Show that the old signature no longer validates → firmware rejected.  \n",
        "\n",
        "---\n",
        "\n",
        "## 📌 Why this matters\n",
        "- In MOLE, the attacker abuses unverified `/lib/firmware` loads.  \n",
        "- With attestation, only **signed firmware** is accepted.  \n",
        "- This prototype demonstrates the **core defense mechanism**.  \n",
        "\n",
        "---\n",
        "\n",
        "## ⚠️ Notes\n",
        "- In this demo, the public key is just a file. In production it must be stored in **secure world hardware** (e.g., OP-TEE, TrustZone, TPM).  \n",
        "- This Colab version **cannot emulate a real Mali GPU** or OP-TEE, but it fully shows the mechanism.  \n",
        "\n",
        "---\n"
      ],
      "metadata": {
        "id": "p6wG_NBe_eg2"
      }
    },
    {
      "cell_type": "code",
      "execution_count": 1,
      "metadata": {
        "colab": {
          "base_uri": "https://localhost:8080/"
        },
        "id": "znW0TaKW8qOJ",
        "outputId": "27454726-9f67-4d62-b752-ca44cdce6341"
      },
      "outputs": [
        {
          "output_type": "stream",
          "name": "stdout",
          "text": [
            "W: Skipping acquire of configured file 'main/source/Sources' as repository 'https://r2u.stat.illinois.edu/ubuntu jammy InRelease' does not seem to provide it (sources.list entry misspelt?)\n",
            "Reading package lists... Done\n",
            "Building dependency tree... Done\n",
            "Reading state information... Done\n",
            "gcc is already the newest version (4:11.2.0-1ubuntu1).\n",
            "gcc set to manually installed.\n",
            "libssl-dev is already the newest version (3.0.2-0ubuntu1.19).\n",
            "0 upgraded, 0 newly installed, 0 to remove and 40 not upgraded.\n",
            "Requirement already satisfied: cryptography in /usr/local/lib/python3.12/dist-packages (43.0.3)\n",
            "Requirement already satisfied: cffi>=1.12 in /usr/local/lib/python3.12/dist-packages (from cryptography) (1.17.1)\n",
            "Requirement already satisfied: pycparser in /usr/local/lib/python3.12/dist-packages (from cffi>=1.12->cryptography) (2.22)\n"
          ]
        }
      ],
      "source": [
        "# @title Step 1. Install required libraries\n",
        "!apt-get update -qq\n",
        "!apt-get install -y gcc libssl-dev\n",
        "!pip install cryptography\n"
      ]
    },
    {
      "cell_type": "code",
      "source": [
        "# @title Step 2. Create a dummy firmware binary (256 bytes of random data)\n",
        "!dd if=/dev/urandom of=firmware.bin bs=1 count=256\n",
        "!ls -lh firmware.bin\n"
      ],
      "metadata": {
        "colab": {
          "base_uri": "https://localhost:8080/"
        },
        "id": "esGOnMo98q_2",
        "outputId": "90852dea-3325-4858-c67b-d4d06ef1c7c2"
      },
      "execution_count": 2,
      "outputs": [
        {
          "output_type": "stream",
          "name": "stdout",
          "text": [
            "256+0 records in\n",
            "256+0 records out\n",
            "256 bytes copied, 0.000695795 s, 368 kB/s\n",
            "-rw-r--r-- 1 root root 256 Sep  6 12:15 firmware.bin\n"
          ]
        }
      ]
    },
    {
      "cell_type": "code",
      "source": [
        "# @title step 3. Signing tool (This will generate keypairs and sign the firmware.) [sign_firmware.py]\n",
        "\n",
        "from cryptography.hazmat.primitives import hashes, serialization\n",
        "from cryptography.hazmat.primitives.asymmetric import ec\n",
        "import argparse, sys\n",
        "\n",
        "def gen_keypair(priv_out=\"mcu_priv.pem\", pub_out=\"mcu_pub.pem\"):\n",
        "    priv = ec.generate_private_key(ec.SECP256R1())\n",
        "    priv_bytes = priv.private_bytes(\n",
        "        serialization.Encoding.PEM,\n",
        "        serialization.PrivateFormat.PKCS8,\n",
        "        serialization.NoEncryption()\n",
        "    )\n",
        "    pub = priv.public_key().public_bytes(\n",
        "        serialization.Encoding.PEM,\n",
        "        serialization.PublicFormat.SubjectPublicKeyInfo\n",
        "    )\n",
        "    with open(priv_out, \"wb\") as f:\n",
        "        f.write(priv_bytes)\n",
        "    with open(pub_out, \"wb\") as f:\n",
        "        f.write(pub)\n",
        "    print(f\"Generated keypair: {priv_out}, {pub_out}\")\n",
        "\n",
        "def sign_file(priv_path, infile, sig_out):\n",
        "    with open(priv_path, \"rb\") as f:\n",
        "        priv = serialization.load_pem_private_key(f.read(), password=None)\n",
        "    with open(infile, \"rb\") as f:\n",
        "        data = f.read()\n",
        "    signature = priv.sign(data, ec.ECDSA(hashes.SHA256()))\n",
        "    with open(sig_out, \"wb\") as f:\n",
        "        f.write(signature)\n",
        "    print(f\"Signed {infile} -> {sig_out}\")\n",
        "\n",
        "# Demo run inside Colab\n",
        "gen_keypair()\n",
        "sign_file(\"mcu_priv.pem\", \"firmware.bin\", \"firmware.sig\")\n"
      ],
      "metadata": {
        "colab": {
          "base_uri": "https://localhost:8080/"
        },
        "id": "Ws9NmM3p8rBc",
        "outputId": "d2b16199-f390-4aba-cf81-afb6be65a895"
      },
      "execution_count": 3,
      "outputs": [
        {
          "output_type": "stream",
          "name": "stdout",
          "text": [
            "Generated keypair: mcu_priv.pem, mcu_pub.pem\n",
            "Signed firmware.bin -> firmware.sig\n"
          ]
        }
      ]
    },
    {
      "cell_type": "code",
      "source": [
        "# @title Step 4. Verification program (C)[Verification program (C)]\n",
        "c_code = \"\"\"\n",
        "#include <stdio.h>\n",
        "#include <stdlib.h>\n",
        "#include <openssl/evp.h>\n",
        "#include <openssl/pem.h>\n",
        "\n",
        "int verify_ecdsa(const char *pubkey_path, const char *firmware_path, const char *sig_path) {\n",
        "    FILE *fpub = fopen(pubkey_path, \"r\");\n",
        "    if (!fpub) { perror(\"fopen pubkey\"); return -1; }\n",
        "    EVP_PKEY *pkey = PEM_read_PUBKEY(fpub, NULL, NULL, NULL);\n",
        "    fclose(fpub);\n",
        "    if (!pkey) { fprintf(stderr, \"Failed to read public key\\\\n\"); return -2; }\n",
        "\n",
        "    FILE *f = fopen(firmware_path, \"rb\");\n",
        "    fseek(f, 0, SEEK_END); long flen = ftell(f); fseek(f, 0, SEEK_SET);\n",
        "    unsigned char *data = malloc(flen); fread(data, 1, flen, f); fclose(f);\n",
        "\n",
        "    FILE *fs = fopen(sig_path,\"rb\");\n",
        "    fseek(fs, 0, SEEK_END); long slen = ftell(fs); fseek(fs, 0, SEEK_SET);\n",
        "    unsigned char *sig = malloc(slen); fread(sig, 1, slen, fs); fclose(fs);\n",
        "\n",
        "    EVP_MD_CTX *mdctx = EVP_MD_CTX_new();\n",
        "    int ok = 0;\n",
        "    if (EVP_DigestVerifyInit(mdctx, NULL, EVP_sha256(), NULL, pkey) == 1) {\n",
        "        if (EVP_DigestVerify(mdctx, sig, slen, data, flen) == 1) {\n",
        "            ok = 1;\n",
        "            printf(\"Verification: OK\\\\n\");\n",
        "        } else {\n",
        "            printf(\"Verification: FAILED\\\\n\");\n",
        "        }\n",
        "    }\n",
        "    EVP_MD_CTX_free(mdctx);\n",
        "    EVP_PKEY_free(pkey);\n",
        "    free(data); free(sig);\n",
        "    return ok ? 0 : 1;\n",
        "}\n",
        "\n",
        "int main(int argc, char **argv) {\n",
        "    if (argc != 4) {\n",
        "        fprintf(stderr, \"Usage: %s pub.pem firmware.bin firmware.sig\\\\n\", argv[0]);\n",
        "        return 2;\n",
        "    }\n",
        "    return verify_ecdsa(argv[1], argv[2], argv[3]);\n",
        "}\n",
        "\"\"\"\n",
        "\n",
        "with open(\"verify_firmware.c\", \"w\") as f:\n",
        "    f.write(c_code)\n",
        "\n",
        "# Compile verifier\n",
        "!gcc verify_firmware.c -o verify -I/usr/include/openssl -lssl -lcrypto"
      ],
      "metadata": {
        "id": "AJNd_hq48rDQ"
      },
      "execution_count": 18,
      "outputs": []
    },
    {
      "cell_type": "code",
      "source": [],
      "metadata": {
        "id": "fJpg8nwr8rTD"
      },
      "execution_count": null,
      "outputs": []
    },
    {
      "cell_type": "code",
      "source": [
        "# @title Step 5. Loader simulation (Python) [This mimics the kernel/driver calling verification before “loading” the firmware.]\n",
        "import subprocess\n",
        "\n",
        "def load_firmware(pubkey, firmware, signature):\n",
        "    cmd = [\"/content/verify\", pubkey, firmware, signature] # Use the absolute path to the executable\n",
        "    print(\"Running verifier:\", \" \".join(cmd))\n",
        "    r = subprocess.run(cmd, capture_output=True, text=True)\n",
        "    print(r.stdout.strip())\n",
        "    if r.returncode == 0:\n",
        "        print(\"[loader] Firmware verified — proceed to load firmware (simulated).\")\n",
        "    else:\n",
        "        print(\"[loader] Firmware verification FAILED — reject firmware.\")\n",
        "    return r.returncode\n",
        "\n",
        "# Test with signed firmware\n",
        "load_firmware(\"mcu_pub.pem\", \"firmware.bin\", \"firmware.sig\")"
      ],
      "metadata": {
        "colab": {
          "base_uri": "https://localhost:8080/"
        },
        "id": "lFpZ0RsB9rrz",
        "outputId": "1e4c950e-a0a7-44f8-def1-9b3179068c54"
      },
      "execution_count": 22,
      "outputs": [
        {
          "output_type": "stream",
          "name": "stdout",
          "text": [
            "Running verifier: /content/verify mcu_pub.pem firmware.bin firmware.sig\n",
            "Verification: FAILED\n",
            "[loader] Firmware verification FAILED — reject firmware.\n"
          ]
        },
        {
          "output_type": "execute_result",
          "data": {
            "text/plain": [
              "1"
            ]
          },
          "metadata": {},
          "execution_count": 22
        }
      ]
    },
    {
      "cell_type": "code",
      "source": [
        "# @title Step 6. Tampering test (Tamper with firmware) [Now I simulate an attacker modifying firmware after it’s signed.]\n",
        "!echo \"MALICIOUS PATCH\" >> firmware.bin"
      ],
      "metadata": {
        "id": "HX60_gmM9rtp"
      },
      "execution_count": 15,
      "outputs": []
    },
    {
      "cell_type": "code",
      "source": [
        "# @title Step 7. Run loader again: [Expected result: FAILED/ Rejected firmware]\n",
        "load_firmware(\"mcu_pub.pem\", \"firmware.bin\", \"firmware.sig\")\n"
      ],
      "metadata": {
        "colab": {
          "base_uri": "https://localhost:8080/"
        },
        "id": "qWeaLpX69rzI",
        "outputId": "fd9a0210-6051-488c-84ed-9ed33a801bcf"
      },
      "execution_count": 23,
      "outputs": [
        {
          "output_type": "stream",
          "name": "stdout",
          "text": [
            "Running verifier: /content/verify mcu_pub.pem firmware.bin firmware.sig\n",
            "Verification: FAILED\n",
            "[loader] Firmware verification FAILED — reject firmware.\n"
          ]
        },
        {
          "output_type": "execute_result",
          "data": {
            "text/plain": [
              "1"
            ]
          },
          "metadata": {},
          "execution_count": 23
        }
      ]
    },
    {
      "cell_type": "code",
      "metadata": {
        "colab": {
          "base_uri": "https://localhost:8080/"
        },
        "id": "087c3dc2",
        "outputId": "25d792c0-0816-4f2a-8755-37d190549bda"
      },
      "source": [
        "load_firmware(\"mcu_pub.pem\", \"firmware.bin\", \"firmware.sig\")"
      ],
      "execution_count": 24,
      "outputs": [
        {
          "output_type": "stream",
          "name": "stdout",
          "text": [
            "Running verifier: /content/verify mcu_pub.pem firmware.bin firmware.sig\n",
            "Verification: FAILED\n",
            "[loader] Firmware verification FAILED — reject firmware.\n"
          ]
        },
        {
          "output_type": "execute_result",
          "data": {
            "text/plain": [
              "1"
            ]
          },
          "metadata": {},
          "execution_count": 24
        }
      ]
    },
    {
      "cell_type": "code",
      "metadata": {
        "colab": {
          "base_uri": "https://localhost:8080/"
        },
        "id": "d5488a8a",
        "outputId": "2c88929c-1214-4ac1-d770-b5deda5af4be"
      },
      "source": [
        "load_firmware(\"mcu_pub.pem\", \"firmware.bin\", \"firmware.sig\")"
      ],
      "execution_count": 25,
      "outputs": [
        {
          "output_type": "stream",
          "name": "stdout",
          "text": [
            "Running verifier: /content/verify mcu_pub.pem firmware.bin firmware.sig\n",
            "Verification: FAILED\n",
            "[loader] Firmware verification FAILED — reject firmware.\n"
          ]
        },
        {
          "output_type": "execute_result",
          "data": {
            "text/plain": [
              "1"
            ]
          },
          "metadata": {},
          "execution_count": 25
        }
      ]
    },
    {
      "cell_type": "code",
      "metadata": {
        "colab": {
          "base_uri": "https://localhost:8080/"
        },
        "id": "185c1c73",
        "outputId": "e54054d9-1b25-49cb-f2aa-36afd68d555e"
      },
      "source": [
        "!ls -l"
      ],
      "execution_count": 20,
      "outputs": [
        {
          "output_type": "stream",
          "name": "stdout",
          "text": [
            "total 44\n",
            "-rw-r--r-- 1 root root   272 Sep  6 12:23 firmware.bin\n",
            "-rw-r--r-- 1 root root    72 Sep  6 12:15 firmware.sig\n",
            "-rw-r--r-- 1 root root   241 Sep  6 12:15 mcu_priv.pem\n",
            "-rw-r--r-- 1 root root   178 Sep  6 12:15 mcu_pub.pem\n",
            "drwxr-xr-x 1 root root  4096 Sep  3 13:36 sample_data\n",
            "-rwxr-xr-x 1 root root 16848 Sep  6 12:24 verify\n",
            "-rw-r--r-- 1 root root  1483 Sep  6 12:24 verify_firmware.c\n"
          ]
        }
      ]
    }
  ]
}