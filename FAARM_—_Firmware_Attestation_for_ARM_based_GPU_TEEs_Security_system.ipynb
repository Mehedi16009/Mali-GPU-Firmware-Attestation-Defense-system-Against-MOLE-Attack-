{
  "nbformat": 4,
  "nbformat_minor": 0,
  "metadata": {
    "colab": {
      "provenance": [],
      "gpuType": "T4",
      "authorship_tag": "ABX9TyNgNZK9O2cTUUYk/rFfDfMs",
      "include_colab_link": true
    },
    "kernelspec": {
      "name": "python3",
      "display_name": "Python 3"
    },
    "language_info": {
      "name": "python"
    },
    "accelerator": "GPU"
  },
  "cells": [
    {
      "cell_type": "markdown",
      "metadata": {
        "id": "view-in-github",
        "colab_type": "text"
      },
      "source": [
        "<a href=\"https://colab.research.google.com/github/Mehedi16009/Mali-GPU-Firmware-Attestation-Defense-system-Against-MOLE-Attack-/blob/main/FAARM_%E2%80%94_Firmware_Attestation_for_ARM_based_GPU_TEEs_Security_system.ipynb\" target=\"_parent\"><img src=\"https://colab.research.google.com/assets/colab-badge.svg\" alt=\"Open In Colab\"/></a>"
      ]
    },
    {
      "cell_type": "markdown",
      "source": [
        "High-level overview (what I built FAARM — Firmware Attestation for ARM-based GPU TEEs Security system here)\n",
        "\n",
        "1.Vendor side (offline)\n",
        "\n",
        " *   Create signing keypair (private key kept offline).\n",
        " *   Sign firmware + manifest → produce firmware.sig.\n",
        "\n",
        "\n",
        "2.Device side (Colab simulation of EL3 / EL1 / GPU)\n",
        "\n",
        "\n",
        "*   EL3 attestor (Python): verifies signature, checks manifest (version/anti-rollback), enforces lock, issues token.\n",
        "*   EL1 simulation (Python): attempts to load firmware, requests secure session, tries TOCTOU overwrites (to test defenses).\n",
        "\n",
        "*  Protected memory & MCU state are simulated (in-memory objects / files) so we can show behavior without hardware.\n",
        "\n",
        "\n",
        "\n",
        "\n",
        "\n",
        "\n",
        "3.Test harness\n",
        "\n",
        "\n",
        "*   Demonstrate: valid signed firmware → accepted and locked; tampered/unsigned firmware → rejected.\n",
        "*   Demonstrate TOCTOU attempt to overwrite after token → blocked by lock.\n",
        "\n",
        "\n",
        "\n",
        "4.Metrics\n",
        "\n",
        "\n",
        "*   Measure verify time, lock time, and show negligible impact on runtime-critical path (verification is once per load).\n",
        "\n"
      ],
      "metadata": {
        "id": "miKSPnTPVrpE"
      }
    },
    {
      "cell_type": "markdown",
      "source": [
        "### 📂 Files / Components We Will Create\n",
        "\n",
        "| File / Component | Description |\n",
        "|------------------|-------------|\n",
        "| **Firmware_Attestation_MaliGPU_Prototype.ipynb** | The Colab notebook (main workspace). |\n",
        "| **vendor_signer.py** | Offline signer that creates RSA/ECC keys and signs the firmware + manifest. |\n",
        "| **firmware.bin** | Dummy firmware image (simulated binary). |\n",
        "| **manifest.json** | Metadata file containing `version`, `mcu_id`, and `timestamp`. |\n",
        "| **firmware.sig** | Signature produced by the vendor’s private key. |\n",
        "| **el3_attestor.py** | EL3 attestation and verification logic (simulated secure monitor). |\n",
        "| **el1_driver_sim.py** | Driver / kernel simulator representing the untrusted OS layer. |\n",
        "| **device_state.json** | Simulated secure storage (stores public key, last_accepted_version, and lock flag). |\n",
        "| **secure_task_sim.py** | Simulates submission of encrypted secure tasks and EL3-controlled placement. |\n",
        "\n",
        "---\n",
        "\n",
        "🧩 **Workflow Overview**\n",
        "1. `vendor_signer.py` generates keys and signs the firmware.\n",
        "2. `manifest.json` + `firmware.sig` accompany `firmware.bin`.\n",
        "3. `el3_attestor.py` verifies the firmware signature and handles version locks.\n",
        "4. `el1_driver_sim.py` mimics untrusted driver interaction.\n",
        "5. `device_state.json` tracks secure state persistence.\n",
        "6. `secure_task_sim.py` emulates secure task execution under EL3 supervision."
      ],
      "metadata": {
        "id": "3T51kcL9Xcr1"
      }
    },
    {
      "cell_type": "code",
      "source": [
        "# @title Cell A — Setup environment"
      ],
      "metadata": {
        "id": "c1yGYHrLVqI9"
      },
      "execution_count": null,
      "outputs": []
    },
    {
      "cell_type": "code",
      "execution_count": 1,
      "metadata": {
        "colab": {
          "base_uri": "https://localhost:8080/"
        },
        "id": "Lf_smogmTJYN",
        "outputId": "7d19e48d-78c4-45dc-93df-cb065bcf1c7b"
      },
      "outputs": [
        {
          "output_type": "stream",
          "name": "stdout",
          "text": [
            "W: Skipping acquire of configured file 'main/source/Sources' as repository 'https://r2u.stat.illinois.edu/ubuntu jammy InRelease' does not seem to provide it (sources.list entry misspelt?)\n",
            "(Reading database ... 126675 files and directories currently installed.)\n",
            "Preparing to unpack .../openssl_3.0.2-0ubuntu1.20_amd64.deb ...\n",
            "Unpacking openssl (3.0.2-0ubuntu1.20) over (3.0.2-0ubuntu1.16) ...\n",
            "Setting up openssl (3.0.2-0ubuntu1.20) ...\n",
            "Processing triggers for man-db (2.10.2-1) ...\n",
            "Requirement already satisfied: cryptography in /usr/local/lib/python3.12/dist-packages (43.0.3)\n",
            "Requirement already satisfied: cffi>=1.12 in /usr/local/lib/python3.12/dist-packages (from cryptography) (2.0.0)\n",
            "Requirement already satisfied: pycparser in /usr/local/lib/python3.12/dist-packages (from cffi>=1.12->cryptography) (2.23)\n"
          ]
        }
      ],
      "source": [
        "# @title Colab: install dependencies\n",
        "!apt-get update -qq\n",
        "!apt-get install -y -qq openssl\n",
        "!pip install cryptography\n"
      ]
    },
    {
      "cell_type": "code",
      "source": [
        "# @title Cell A — Setup environment"
      ],
      "metadata": {
        "id": "_f086936ZxfY"
      },
      "execution_count": null,
      "outputs": []
    },
    {
      "cell_type": "code",
      "source": [
        "# @title Create a dummy firmware.bin and manifest.json\n",
        "with open(\"firmware.bin\", \"wb\") as f:\n",
        "    f.write(b\"This is a benign firmware image for FAARM prototype.\\n\" * 8)\n",
        "\n",
        "manifest = {\n",
        "    \"version\": 1,\n",
        "    \"mcu_id\": \"mali-mcu-v1\",\n",
        "    \"timestamp\": \"2025-10-07T00:00:00Z\",\n",
        "    \"notes\": \"Demo manifest for FAARM prototype\"\n",
        "}\n",
        "import json\n",
        "with open(\"manifest.json\", \"w\") as f:\n",
        "    json.dump(manifest, f, indent=2)\n",
        "\n",
        "!ls -lh firmware.bin manifest.json\n"
      ],
      "metadata": {
        "colab": {
          "base_uri": "https://localhost:8080/"
        },
        "id": "oYTc3nT2TKi_",
        "outputId": "653296c7-7d0e-4021-b787-c945f27733f3"
      },
      "execution_count": 2,
      "outputs": [
        {
          "output_type": "stream",
          "name": "stdout",
          "text": [
            "-rw-r--r-- 1 root root 424 Oct  7 10:53 firmware.bin\n",
            "-rw-r--r-- 1 root root 132 Oct  7 10:53 manifest.json\n"
          ]
        }
      ]
    },
    {
      "cell_type": "code",
      "source": [
        "# @title Cell B — Create dummy firmware and manifest"
      ],
      "metadata": {
        "id": "3Tot3MaRZ2I6"
      },
      "execution_count": null,
      "outputs": []
    },
    {
      "cell_type": "code",
      "source": [
        "# @title vendor_signer.py logic embedded here (run in Colab but treat as vendor-side)\n",
        "from cryptography.hazmat.primitives.asymmetric import ec\n",
        "from cryptography.hazmat.primitives import serialization, hashes\n",
        "from cryptography.hazmat.primitives.asymmetric.utils import encode_dss_signature\n",
        "import json, base64\n",
        "\n",
        "# Generate keypair (for demo). In production, do this offline in an HSM.\n",
        "priv_key = ec.generate_private_key(ec.SECP256R1())\n",
        "pub_key = priv_key.public_key()\n",
        "\n",
        "# Save keys (vendor private would be kept offline; public is distributed to devices)\n",
        "with open(\"vendor_priv.pem\",\"wb\") as f:\n",
        "    f.write(priv_key.private_bytes(\n",
        "        serialization.Encoding.PEM,\n",
        "        serialization.PrivateFormat.PKCS8,\n",
        "        serialization.NoEncryption()))\n",
        "with open(\"vendor_pub.pem\",\"wb\") as f:\n",
        "    f.write(pub_key.public_bytes(\n",
        "        serialization.Encoding.PEM,\n",
        "        serialization.PublicFormat.SubjectPublicKeyInfo))\n",
        "\n",
        "# Sign firmware: hash of firmware + manifest JSON\n",
        "def sign_firmware(priv, firmware_path=\"firmware.bin\", manifest_path=\"manifest.json\", sig_out=\"firmware.sig\"):\n",
        "    with open(firmware_path,\"rb\") as f: fw = f.read()\n",
        "    with open(manifest_path,\"rb\") as f: man = f.read()\n",
        "    # Compose the payload: firmware || manifest\n",
        "    payload = fw + b\"\\n\" + man\n",
        "    signature = priv.sign(payload, ec.ECDSA(hashes.SHA256()))\n",
        "    with open(sig_out,\"wb\") as f:\n",
        "        f.write(signature)\n",
        "    print(\"Signed\", firmware_path, \"->\", sig_out)\n",
        "\n",
        "sign_firmware(priv_key)\n",
        "print(\"Vendor keys and firmware signature created.\")\n"
      ],
      "metadata": {
        "colab": {
          "base_uri": "https://localhost:8080/"
        },
        "id": "CpC_mszWTKlW",
        "outputId": "69914b09-4f6c-4f78-845c-0587d6240d3c"
      },
      "execution_count": 3,
      "outputs": [
        {
          "output_type": "stream",
          "name": "stdout",
          "text": [
            "Signed firmware.bin -> firmware.sig\n",
            "Vendor keys and firmware signature created.\n"
          ]
        }
      ]
    },
    {
      "cell_type": "code",
      "source": [
        "# @title Cell C — Vendor: generate keypair & sign firmware (offline role)"
      ],
      "metadata": {
        "id": "SsuvsPM9Z6iR"
      },
      "execution_count": null,
      "outputs": []
    },
    {
      "cell_type": "code",
      "source": [
        "# @title Simulated secure storage for EL3: public key + last accepted version + firmware lock\n",
        "import json\n",
        "device_state = {\n",
        "    \"vendor_pub_pem\": open(\"vendor_pub.pem\",\"rb\").read().decode(),\n",
        "    \"last_accepted_version\": 0,\n",
        "    \"firmware_locked\": False,\n",
        "    \"firmware_hash\": None\n",
        "}\n",
        "with open(\"device_state.json\",\"w\") as f:\n",
        "    json.dump(device_state, f, indent=2)\n",
        "print(\"Device secure state initialized.\")\n"
      ],
      "metadata": {
        "colab": {
          "base_uri": "https://localhost:8080/"
        },
        "id": "pp-he-TfTKsw",
        "outputId": "bf75fb62-f8f6-40cd-f24c-888dfff31327"
      },
      "execution_count": 4,
      "outputs": [
        {
          "output_type": "stream",
          "name": "stdout",
          "text": [
            "Device secure state initialized.\n"
          ]
        }
      ]
    },
    {
      "cell_type": "code",
      "source": [
        "# @title Cell E — EL3 attestor: verify, anti-rollback, lock logic"
      ],
      "metadata": {
        "id": "u4qtQ0YQZ8Yf"
      },
      "execution_count": null,
      "outputs": []
    },
    {
      "cell_type": "code",
      "source": [
        "# @title el3_attestor.py core functionality (run this cell as the EL3 service)\n",
        "from cryptography.hazmat.primitives import hashes, serialization\n",
        "from cryptography.hazmat.primitives.asymmetric import ec\n",
        "import json, hashlib\n",
        "\n",
        "def compute_payload_hash(firmware_path=\"firmware.bin\", manifest_path=\"manifest.json\"):\n",
        "    with open(firmware_path,\"rb\") as f: fw = f.read()\n",
        "    with open(manifest_path,\"rb\") as f: man = f.read()\n",
        "    payload = fw + b\"\\n\" + man\n",
        "    h = hashlib.sha256(payload).hexdigest()\n",
        "    return h, payload\n",
        "\n",
        "def load_device_state():\n",
        "    with open(\"device_state.json\",\"r\") as f:\n",
        "        return json.load(f)\n",
        "\n",
        "def save_device_state(state):\n",
        "    with open(\"device_state.json\",\"w\") as f:\n",
        "        json.dump(state, f, indent=2)\n",
        "\n",
        "def verify_and_lock(firmware=\"firmware.bin\", manifest=\"manifest.json\", sig=\"firmware.sig\"):\n",
        "    state = load_device_state()\n",
        "    pub_pem = state[\"vendor_pub_pem\"].encode()\n",
        "    pubkey = serialization.load_pem_public_key(pub_pem)\n",
        "    h, payload = compute_payload_hash(firmware, manifest)\n",
        "    sig_bytes = open(sig,\"rb\").read()\n",
        "    try:\n",
        "        pubkey.verify(sig_bytes, payload, ec.ECDSA(hashes.SHA256()))\n",
        "    except Exception as e:\n",
        "        return False, \"Signature verification FAILED: \" + str(e)\n",
        "\n",
        "    # parse manifest and verify version\n",
        "    with open(manifest,\"r\") as f:\n",
        "        man = json.load(f)\n",
        "    if man[\"version\"] <= state[\"last_accepted_version\"]:\n",
        "        return False, \"Anti-rollback: version too old\"\n",
        "    # pass: update device state (lock firmware)\n",
        "    state[\"last_accepted_version\"] = man[\"version\"]\n",
        "    state[\"firmware_locked\"] = True\n",
        "    state[\"firmware_hash\"] = h\n",
        "    save_device_state(state)\n",
        "    return True, \"Verified and locked\"\n",
        "\n",
        "# Example call when driver asks EL3 to verify+load:\n",
        "ok, msg = verify_and_lock()\n",
        "print(ok, msg)\n",
        "print(\"Device state now:\", json.load(open(\"device_state.json\")))\n"
      ],
      "metadata": {
        "colab": {
          "base_uri": "https://localhost:8080/"
        },
        "id": "Ew6PRORgTKvF",
        "outputId": "6319377f-681f-4d81-8301-b109559a5eb1"
      },
      "execution_count": 5,
      "outputs": [
        {
          "output_type": "stream",
          "name": "stdout",
          "text": [
            "True Verified and locked\n",
            "Device state now: {'vendor_pub_pem': '-----BEGIN PUBLIC KEY-----\\nMFkwEwYHKoZIzj0CAQYIKoZIzj0DAQcDQgAExuHpQeJUWkaErevt+W/QwzSLdQc8\\ncmthPu9TP0jd5gd/U9xDUGyl5w4efRCyOeaFm33umF/D42rqkYh3YgSrFA==\\n-----END PUBLIC KEY-----\\n', 'last_accepted_version': 1, 'firmware_locked': True, 'firmware_hash': 'f1ad9a781903e0a6ca7f0197d5036ceb4d74ce173f000f3006e6cdb4bdf1d654'}\n"
          ]
        }
      ]
    },
    {
      "cell_type": "code",
      "source": [
        "# @title Cell E — EL3 attestor: verify, anti-rollback, lock logic"
      ],
      "metadata": {
        "id": "X0Kw-uxTZ-a-"
      },
      "execution_count": null,
      "outputs": []
    },
    {
      "cell_type": "code",
      "source": [
        "# @title el1_driver_sim.py behavior demonstration\n",
        "import json, shutil, time\n",
        "state = json.load(open(\"device_state.json\"))\n",
        "\n",
        "def driver_request_firmware_load():\n",
        "    print(\"EL1: Requesting EL3 to verify and lock firmware...\")\n",
        "    # In practice driver hands package to EL3; here we call EL3 function directly\n",
        "    from importlib import reload\n",
        "    ok, msg = verify_and_lock()  # function from previous cell in this Colab context\n",
        "    print(\"EL3 response:\", ok, msg)\n",
        "    return ok\n",
        "\n",
        "def driver_try_overwrite_firmware(new_fw_content=b\"malicious\"):\n",
        "    # driver attempts to overwrite firmware.bin (this simulates attacker)\n",
        "    print(\"EL1: Attempting to overwrite firmware.bin ...\")\n",
        "    # simulate permission: in a vulnerable system, this would write; in our secure system we check device_state\n",
        "    state = json.load(open(\"device_state.json\"))\n",
        "    if state[\"firmware_locked\"]:\n",
        "        print(\"EL3: Firmware is locked. Overwrite denied.\")\n",
        "        return False\n",
        "    else:\n",
        "        with open(\"firmware.bin\",\"wb\") as f:\n",
        "            f.write(new_fw_content)\n",
        "        print(\"EL1: Overwrite done (device was not locked).\")\n",
        "        return True\n",
        "\n",
        "# Run test flow\n",
        "# 1) Before verify: attempt overwrite -> should be allowed if unlocked\n",
        "print(\"=== Test 1: attempt overwrite *before* EL3 verification ===\")\n",
        "# reset lock to False for test (simulate fresh device)\n",
        "s = json.load(open(\"device_state.json\"))\n",
        "s[\"firmware_locked\"] = False; s[\"last_accepted_version\"] = 0; s[\"firmware_hash\"]=None\n",
        "json.dump(s, open(\"device_state.json\",\"w\"), indent=2)\n",
        "\n",
        "# EL1 overwrites\n",
        "driver_try_overwrite_firmware(b\"malicious-firmware-before-verify\\n\")\n",
        "\n",
        "# Now driver asks EL3 to verify/load (should fail because signature mismatches)\n",
        "ok = driver_request_firmware_load()\n",
        "print(\"After verify attempt, state:\", json.load(open(\"device_state.json\")))\n",
        "\n",
        "# Reset firmware.bin to benign, re-sign, then verify and lock\n",
        "with open(\"firmware.bin\",\"wb\") as f:\n",
        "    f.write(b\"This is a benign firmware image for FAARM prototype.\\n\" * 8)\n",
        "# re-sign using vendor private in the demo env\n",
        "sign_firmware(priv_key)\n",
        "ok = driver_request_firmware_load()\n",
        "print(\"After signing and verify, state:\", json.load(open(\"device_state.json\")))\n",
        "\n",
        "# 2) Attempt TOCTOU overwrite *after* EL3 verified and locked\n",
        "print(\"\\n=== Test 2: attempt overwrite *after* EL3 verification (TOCTOU) ===\")\n",
        "driver_try_overwrite_firmware(b\"malicious-after-verify\\n\")\n"
      ],
      "metadata": {
        "colab": {
          "base_uri": "https://localhost:8080/"
        },
        "id": "tVPq3pDZTKxK",
        "outputId": "30ac6b68-7ca7-4463-fa01-cf5932b3d295"
      },
      "execution_count": 6,
      "outputs": [
        {
          "output_type": "stream",
          "name": "stdout",
          "text": [
            "=== Test 1: attempt overwrite *before* EL3 verification ===\n",
            "EL1: Attempting to overwrite firmware.bin ...\n",
            "EL1: Overwrite done (device was not locked).\n",
            "EL1: Requesting EL3 to verify and lock firmware...\n",
            "EL3 response: False Signature verification FAILED: \n",
            "After verify attempt, state: {'vendor_pub_pem': '-----BEGIN PUBLIC KEY-----\\nMFkwEwYHKoZIzj0CAQYIKoZIzj0DAQcDQgAExuHpQeJUWkaErevt+W/QwzSLdQc8\\ncmthPu9TP0jd5gd/U9xDUGyl5w4efRCyOeaFm33umF/D42rqkYh3YgSrFA==\\n-----END PUBLIC KEY-----\\n', 'last_accepted_version': 0, 'firmware_locked': False, 'firmware_hash': None}\n",
            "Signed firmware.bin -> firmware.sig\n",
            "EL1: Requesting EL3 to verify and lock firmware...\n",
            "EL3 response: True Verified and locked\n",
            "After signing and verify, state: {'vendor_pub_pem': '-----BEGIN PUBLIC KEY-----\\nMFkwEwYHKoZIzj0CAQYIKoZIzj0DAQcDQgAExuHpQeJUWkaErevt+W/QwzSLdQc8\\ncmthPu9TP0jd5gd/U9xDUGyl5w4efRCyOeaFm33umF/D42rqkYh3YgSrFA==\\n-----END PUBLIC KEY-----\\n', 'last_accepted_version': 1, 'firmware_locked': True, 'firmware_hash': 'f1ad9a781903e0a6ca7f0197d5036ceb4d74ce173f000f3006e6cdb4bdf1d654'}\n",
            "\n",
            "=== Test 2: attempt overwrite *after* EL3 verification (TOCTOU) ===\n",
            "EL1: Attempting to overwrite firmware.bin ...\n",
            "EL3: Firmware is locked. Overwrite denied.\n"
          ]
        },
        {
          "output_type": "execute_result",
          "data": {
            "text/plain": [
              "False"
            ]
          },
          "metadata": {},
          "execution_count": 6
        }
      ]
    },
    {
      "cell_type": "code",
      "source": [
        "# @title Cell G — Simulate secure task submission (EL1 → EL3 decrypt & placement)"
      ],
      "metadata": {
        "id": "lYCviPopauLs"
      },
      "execution_count": null,
      "outputs": []
    },
    {
      "cell_type": "code",
      "source": [
        "# @title secure_task_sim.py: application submits encrypted payload; EL3 will only decrypt/place if firmware locked & valid\n",
        "from cryptography.hazmat.primitives.ciphers import Cipher, algorithms, modes\n",
        "import os, base64, hashlib\n",
        "\n",
        "# simple symmetric encryption for demo (NOT production key management)\n",
        "key = os.urandom(16)\n",
        "iv = os.urandom(16)\n",
        "\n",
        "def encrypt_payload(plaintext: bytes):\n",
        "    cipher = Cipher(algorithms.AES(key), modes.CBC(iv))\n",
        "    encryptor = cipher.encryptor()\n",
        "    # pad to 16\n",
        "    pad_len = 16 - (len(plaintext) % 16)\n",
        "    plaintext_padded = plaintext + bytes([pad_len])*pad_len\n",
        "    ct = encryptor.update(plaintext_padded) + encryptor.finalize()\n",
        "    return ct\n",
        "\n",
        "def el3_place_decrypted_payload(ct):\n",
        "    state = json.load(open(\"device_state.json\"))\n",
        "    if not state[\"firmware_locked\"]:\n",
        "        return False, \"EL3 refuses: firmware not attested/locked\"\n",
        "    # decrypt (EL3 has symmetric key for demo)\n",
        "    cipher = Cipher(algorithms.AES(key), modes.CBC(iv))\n",
        "    decryptor = cipher.decryptor()\n",
        "    pt_padded = decryptor.update(ct) + decryptor.finalize()\n",
        "    pad_len = pt_padded[-1]\n",
        "    pt = pt_padded[:-pad_len]\n",
        "    # \"place\" into protected memory (simulated file)\n",
        "    with open(\"protected_memory.bin\",\"wb\") as f:\n",
        "        f.write(pt)\n",
        "    return True, \"Placed plaintext into protected region\"\n",
        "\n",
        "# Demo\n",
        "payload = b\"SECRET_GPU_INPUT_DATA\"\n",
        "ct = encrypt_payload(payload)\n",
        "ok, msg = el3_place_decrypted_payload(ct)\n",
        "print(\"EL3 placement:\", ok, msg)\n",
        "if ok:\n",
        "    print(\"Protected memory content:\", open(\"protected_memory.bin\",\"rb\").read())\n"
      ],
      "metadata": {
        "colab": {
          "base_uri": "https://localhost:8080/"
        },
        "id": "YpTu_lliTKzC",
        "outputId": "f46d3c70-3fb0-4fe3-ac60-db9e0bd5c4b0"
      },
      "execution_count": 7,
      "outputs": [
        {
          "output_type": "stream",
          "name": "stdout",
          "text": [
            "EL3 placement: True Placed plaintext into protected region\n",
            "Protected memory content: b'SECRET_GPU_INPUT_DATA'\n"
          ]
        }
      ]
    },
    {
      "cell_type": "code",
      "source": [
        "# @title Cell H — Timing & performance measurement\n",
        "import time\n",
        "# measure signature verification time approx\n",
        "start = time.perf_counter()\n",
        "ok, msg = verify_and_lock()\n",
        "end = time.perf_counter()\n",
        "print(\"verify_and_lock took {:.3f} ms; result: {}\".format((end-start)*1000, ok))\n"
      ],
      "metadata": {
        "colab": {
          "base_uri": "https://localhost:8080/"
        },
        "id": "SuOUjZh2TK08",
        "outputId": "b73495be-7b0b-4337-c006-1c2b4e1d579b"
      },
      "execution_count": 9,
      "outputs": [
        {
          "output_type": "stream",
          "name": "stdout",
          "text": [
            "verify_and_lock took 1.337 ms; result: False\n"
          ]
        }
      ]
    },
    {
      "cell_type": "code",
      "source": [],
      "metadata": {
        "id": "6LpiRsxZTK3B"
      },
      "execution_count": null,
      "outputs": []
    },
    {
      "cell_type": "code",
      "source": [],
      "metadata": {
        "id": "5RQR8ooETK5A"
      },
      "execution_count": null,
      "outputs": []
    },
    {
      "cell_type": "code",
      "source": [],
      "metadata": {
        "id": "IWG7FEY3TK7M"
      },
      "execution_count": null,
      "outputs": []
    },
    {
      "cell_type": "code",
      "source": [],
      "metadata": {
        "id": "jbuHn1imTK9G"
      },
      "execution_count": null,
      "outputs": []
    },
    {
      "cell_type": "code",
      "source": [],
      "metadata": {
        "id": "e0_Ah6YlTLAq"
      },
      "execution_count": null,
      "outputs": []
    }
  ]
}